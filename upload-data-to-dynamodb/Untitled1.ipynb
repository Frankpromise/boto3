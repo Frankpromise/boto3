{
 "cells": [
  {
   "cell_type": "code",
   "execution_count": 1,
   "id": "15e721cd",
   "metadata": {},
   "outputs": [],
   "source": [
    "import boto3\n",
    "import pprint\n",
    "from boto3.dynamodb.conditions import Key, Attr"
   ]
  },
  {
   "cell_type": "code",
   "execution_count": 2,
   "id": "8b3ae6e4",
   "metadata": {},
   "outputs": [
    {
     "name": "stdout",
     "output_type": "stream",
     "text": [
      "2022-12-12 12:16:06.664000+01:00\n"
     ]
    }
   ],
   "source": [
    "session = boto3.Session(region_name=\"us-west-2\")\n",
    "dynamodb = session.resource('dynamodb')\n",
    "table = dynamodb.Table('users')\n",
    "print(table.creation_date_time)"
   ]
  },
  {
   "cell_type": "code",
   "execution_count": 8,
   "id": "0f1d2ad8",
   "metadata": {},
   "outputs": [
    {
     "name": "stdout",
     "output_type": "stream",
     "text": [
      "[]\n"
     ]
    }
   ],
   "source": [
    "response = table.scan(\n",
    "    FilterExpression=Attr('first_name').begins_with('J') & Attr('account_type').eq('standard_user')\n",
    ")\n",
    "items = response['Items']\n",
    "print(items)"
   ]
  },
  {
   "cell_type": "code",
   "execution_count": null,
   "id": "aaa0df65",
   "metadata": {},
   "outputs": [],
   "source": []
  }
 ],
 "metadata": {
  "kernelspec": {
   "display_name": "Python 3.10.8 64-bit (microsoft store)",
   "language": "python",
   "name": "python3"
  },
  "language_info": {
   "codemirror_mode": {
    "name": "ipython",
    "version": 3
   },
   "file_extension": ".py",
   "mimetype": "text/x-python",
   "name": "python",
   "nbconvert_exporter": "python",
   "pygments_lexer": "ipython3",
   "version": "3.10.8"
  },
  "vscode": {
   "interpreter": {
    "hash": "d6dccc6077f57550d84142dfd7a68bc58d70964bbc8f2286247837bc2e6e0ebf"
   }
  }
 },
 "nbformat": 4,
 "nbformat_minor": 5
}
